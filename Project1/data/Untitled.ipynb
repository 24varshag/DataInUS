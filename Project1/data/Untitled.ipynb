{
 "cells": [
  {
   "cell_type": "code",
   "execution_count": 8,
   "id": "81f6a27d-e380-4626-b565-3982209e5b2b",
   "metadata": {},
   "outputs": [
    {
     "name": "stdout",
     "output_type": "stream",
     "text": [
      "Missing Values:\n",
      " poverty_perc                               0\n",
      "median_household_income                    0\n",
      "education_less_than_high_school_percent    0\n",
      "percent_high_blood_pressure                0\n",
      "percent_coronary_heart_disease             0\n",
      "percent_stroke                             0\n",
      "percent_high_cholesterol                   0\n",
      "percent_inactive                           0\n",
      "percent_smoking                            0\n",
      "number_of_hospitals                        0\n",
      "number_of_primary_care_physicians          0\n",
      "percent_no_heath_insurance                 0\n",
      "urban_rural_status                         0\n",
      "dtype: int64\n",
      "Data preprocessing complete! Cleaned data saved as 'cleaned_data.csv'.\n"
     ]
    }
   ],
   "source": [
    "import pandas as pd\n",
    "import numpy as np\n",
    "from sklearn.preprocessing import MinMaxScaler\n",
    "\n",
    "# Load data\n",
    "df = pd.read_csv(\"national_health_data_2024.csv\") \n",
    "\n",
    "# Step 1: Keep only relevant columns\n",
    "relevant_cols = [\n",
    "    \"poverty_perc\", \"median_household_income\", \"education_less_than_high_school_percent\",\n",
    "    \"percent_high_blood_pressure\", \"percent_coronary_heart_disease\", \"percent_stroke\", \n",
    "    \"percent_high_cholesterol\", \"percent_inactive\", \"percent_smoking\",\n",
    "    \"number_of_hospitals\", \"number_of_primary_care_physicians\", \"percent_no_heath_insurance\",\n",
    "    \"urban_rural_status\"\n",
    "]\n",
    "df = df[relevant_cols]  # Drop all other columns\n",
    "\n",
    "# Step 2: Check for missing values\n",
    "print(\"Missing Values:\\n\", df.isnull().sum())\n",
    "\n",
    "# Step 3: Handle missing values\n",
    "df.fillna(df.median(numeric_only=True), inplace=True)  # Fill numeric columns with median\n",
    "\n",
    "# Drop columns if more than 30% data is missing\n",
    "df.dropna(axis=1, thresh=len(df) * 0.7, inplace=True)\n",
    "\n",
    "# Step 4: Convert percentage columns to decimal format (if they are in 0-100 range)\n",
    "percent_cols = [\n",
    "    \"poverty_perc\", \"education_less_than_high_school_percent\", \"percent_inactive\",\n",
    "    \"percent_smoking\", \"percent_no_heath_insurance\", \"percent_high_blood_pressure\",\n",
    "    \"percent_coronary_heart_disease\", \"percent_stroke\", \"percent_high_cholesterol\"\n",
    "]\n",
    "\n",
    "# Step 5: Convert numeric columns to proper data types\n",
    "num_cols = [\"median_household_income\", \"number_of_hospitals\", \"number_of_primary_care_physicians\"]\n",
    "df[num_cols] = df[num_cols].apply(pd.to_numeric, errors=\"coerce\")\n",
    "\n",
    "# Step 6: Encode categorical variables (Urban = 1, Rural = 0)\n",
    "df[\"urban_rural_status\"] = df[\"urban_rural_status\"].map({\"Rural\": 0, \"Urban\": 1})\n",
    "\n",
    "# Step 7: Remove duplicates\n",
    "df.drop_duplicates(inplace=True)\n",
    "\n",
    "# Step 8: Normalize selected columns for better visualization\n",
    "scaler = MinMaxScaler()\n",
    "scale_cols = [\"median_household_income\", \"number_of_hospitals\", \"number_of_primary_care_physicians\"]\n",
    "df[scale_cols] = scaler.fit_transform(df[scale_cols])\n",
    "\n",
    "# Step 9: Save the cleaned dataset\n",
    "df.to_csv(\"cleaned_data.csv\", index=False)\n",
    "\n",
    "print(\"Data preprocessing complete! Cleaned data saved as 'cleaned_data.csv'.\")\n"
   ]
  },
  {
   "cell_type": "code",
   "execution_count": null,
   "id": "a27980b6-7891-4eec-b713-84c4c68b2f33",
   "metadata": {},
   "outputs": [],
   "source": []
  }
 ],
 "metadata": {
  "kernelspec": {
   "display_name": "Python 3 (ipykernel)",
   "language": "python",
   "name": "python3"
  },
  "language_info": {
   "codemirror_mode": {
    "name": "ipython",
    "version": 3
   },
   "file_extension": ".py",
   "mimetype": "text/x-python",
   "name": "python",
   "nbconvert_exporter": "python",
   "pygments_lexer": "ipython3",
   "version": "3.12.6"
  }
 },
 "nbformat": 4,
 "nbformat_minor": 5
}
